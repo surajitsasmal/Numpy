{
 "cells": [
  {
   "cell_type": "markdown",
   "id": "fb12b9ba",
   "metadata": {},
   "source": [
    "# NUMPY"
   ]
  },
  {
   "cell_type": "markdown",
   "id": "13db00a0",
   "metadata": {},
   "source": [
    "A package in python which stands for ‘Number Python’\n",
    "\n",
    "It is used for mathematical and scientific computations, which contains multi-dimensional arrays and matrices.\n",
    "\n",
    "Using linalg module we can perform linear algebra also.\n"
   ]
  },
  {
   "cell_type": "markdown",
   "id": "4fa16265",
   "metadata": {},
   "source": [
    "# Numpy Array"
   ]
  },
  {
   "cell_type": "markdown",
   "id": "a7205d12",
   "metadata": {},
   "source": [
    "An array is a collection of items of same data type stored at contiguous memory locations.\n",
    "\n",
    "It works faster than list.\n",
    "\n",
    "An array can be n-dimensional.\n"
   ]
  },
  {
   "cell_type": "code",
   "execution_count": 1,
   "id": "7ec4472c",
   "metadata": {},
   "outputs": [],
   "source": [
    "import numpy as np"
   ]
  },
  {
   "cell_type": "code",
   "execution_count": 2,
   "id": "0d940b5f",
   "metadata": {},
   "outputs": [],
   "source": [
    "##creating array\n"
   ]
  },
  {
   "cell_type": "code",
   "execution_count": 5,
   "id": "a6d42fd3",
   "metadata": {},
   "outputs": [
    {
     "name": "stdout",
     "output_type": "stream",
     "text": [
      "[80, 90, 100, 87]\n",
      "<class 'list'>\n",
      "[ 80  90 100  87]\n",
      "<class 'numpy.ndarray'>\n"
     ]
    }
   ],
   "source": [
    "score=[80,90,100,87]\n",
    "print(score)\n",
    "print(type(score))\n",
    "score_array=np.array(score)\n",
    "print(score_array)\n",
    "print(type(score_array))"
   ]
  },
  {
   "cell_type": "code",
   "execution_count": 6,
   "id": "364ccb8b",
   "metadata": {},
   "outputs": [
    {
     "name": "stdout",
     "output_type": "stream",
     "text": [
      "array('i', [10, 56, 87])\n",
      "<class 'array.array'>\n"
     ]
    }
   ],
   "source": [
    "import array\n",
    "n1 = array.array('i', [10,56,87]) \n",
    "print(n1)\n",
    "print(type(n1))"
   ]
  },
  {
   "cell_type": "code",
   "execution_count": 14,
   "id": "f6c50522",
   "metadata": {},
   "outputs": [
    {
     "name": "stdout",
     "output_type": "stream",
     "text": [
      "Time taken by Lists : 0.026427268981933594 seconds\n",
      "Time taken by NumPy Arrays : 0.0 seconds\n"
     ]
    }
   ],
   "source": [
    "import time\n",
    "size = 100000  \n",
    "list1 = range(size)\n",
    "list2 = range(size)\n",
    "array1 = np.arange(size) \n",
    "array2 = np.arange(size)\n",
    " \n",
    "initialTime = time.time()\n",
    "list3 = [(a * b) for a, b in zip(list1, list2)]\n",
    " \n",
    "print(\"Time taken by Lists :\",\n",
    "      (time.time() - initialTime),\n",
    "      \"seconds\")\n",
    " \n",
    "initialTime = time.time()\n",
    "array3 = array1 * array2\n",
    " \n",
    "print(\"Time taken by NumPy Arrays :\",\n",
    "      (time.time() - initialTime),\n",
    "      \"seconds\")"
   ]
  },
  {
   "cell_type": "code",
   "execution_count": 17,
   "id": "6c77978e",
   "metadata": {},
   "outputs": [
    {
     "name": "stdout",
     "output_type": "stream",
     "text": [
      "\n",
      "Concatenation:\n",
      "Time taken by Lists : 0.04713749885559082 seconds\n",
      "Time taken by NumPy Arrays : 0.0 seconds\n",
      "\n",
      "Dot Product:\n",
      "Time taken by Lists : 0.3595116138458252 seconds\n",
      "Time taken by NumPy Arrays : 0.0 seconds\n"
     ]
    }
   ],
   "source": [
    "size = 1000000 \n",
    "  \n",
    "list1 = [i for i in range(size)]\n",
    "list2 = [i for i in range(size)]\n",
    "array1 = np.arange(size)\n",
    "array2 = np.arange(size)\n",
    " \n",
    "print(\"\\nConcatenation:\")\n",
    "initialTime = time.time()\n",
    "list3 = list1 + list2\n",
    "print(\"Time taken by Lists :\",\n",
    "      (time.time() - initialTime),\n",
    "      \"seconds\")\n",
    "  \n",
    "# NumPy array\n",
    "initialTime = time.time()\n",
    "array3 = np.concatenate((array1, array2),\n",
    "                          axis = 0)\n",
    " \n",
    "# calculating execution time\n",
    "print(\"Time taken by NumPy Arrays :\",\n",
    "      (time.time() - initialTime),\n",
    "      \"seconds\")\n",
    " \n",
    " \n",
    "# Dot Product\n",
    "dot = 0\n",
    "print(\"\\nDot Product:\")\n",
    " \n",
    "# list\n",
    "initialTime = time.time()\n",
    "for a, b in zip(list1, list2):\n",
    "        dot = dot + (a * b)\n",
    "         \n",
    "# calculating execution time\n",
    "print(\"Time taken by Lists :\",\n",
    "      (time.time() - initialTime),\n",
    "      \"seconds\")\n",
    "initialTime = time.time()\n",
    "array4 = np.dot(array1, array2)\n",
    " \n",
    "# calculating execution time\n",
    "print(\"Time taken by NumPy Arrays :\",\n",
    "      (time.time() - initialTime),\n",
    "      \"seconds\")"
   ]
  },
  {
   "cell_type": "code",
   "execution_count": null,
   "id": "6ed4427c",
   "metadata": {},
   "outputs": [],
   "source": []
  },
  {
   "cell_type": "markdown",
   "id": "d63df1b6",
   "metadata": {},
   "source": [
    "# Create NumPy array of random numbers\n"
   ]
  },
  {
   "cell_type": "code",
   "execution_count": 7,
   "id": "4b224440",
   "metadata": {},
   "outputs": [
    {
     "data": {
      "text/plain": [
       "array([0.41493472, 0.61688815, 0.71079087, 0.57805729, 0.08690023])"
      ]
     },
     "execution_count": 7,
     "metadata": {},
     "output_type": "execute_result"
    }
   ],
   "source": [
    "a=np.random.random(size=5)\n",
    "a"
   ]
  },
  {
   "cell_type": "markdown",
   "id": "c1a8beee",
   "metadata": {},
   "source": [
    "numpy.random.random() is one of the function for doing random sampling in numpy. It returns an array of specified shape and fills it with random floats in the\n",
    "half-open interval [0.0, 1.0).\n",
    " The required number of random numbers is passed through the ‘size’ parameter .\n",
    " "
   ]
  },
  {
   "cell_type": "code",
   "execution_count": 8,
   "id": "95480880",
   "metadata": {},
   "outputs": [
    {
     "data": {
      "text/plain": [
       "array([0.04625224, 0.97884904, 0.99581662, 0.84616433, 0.79633339])"
      ]
     },
     "execution_count": 8,
     "metadata": {},
     "output_type": "execute_result"
    }
   ],
   "source": [
    "np.random.rand(5)"
   ]
  },
  {
   "cell_type": "markdown",
   "id": "0677070a",
   "metadata": {},
   "source": [
    "The rand() creates an array of the given shape and populates it with random variables derived\n",
    "from a uniform distribution between (0, 1)\n"
   ]
  },
  {
   "cell_type": "code",
   "execution_count": 9,
   "id": "1a1852ea",
   "metadata": {},
   "outputs": [
    {
     "data": {
      "text/plain": [
       "array([ 0.45172997, -1.27590635,  0.4377912 , -0.890759  ,  0.13852583])"
      ]
     },
     "execution_count": 9,
     "metadata": {},
     "output_type": "execute_result"
    }
   ],
   "source": [
    "np.random.randn(5)"
   ]
  },
  {
   "cell_type": "markdown",
   "id": "ee345ff7",
   "metadata": {},
   "source": [
    "The randn() returns a values from the \"Standard Normal\" distribution.\n",
    "\n",
    "standard Normal Distribution has mean 0 and standard deviation 1.\n"
   ]
  },
  {
   "cell_type": "code",
   "execution_count": 4,
   "id": "7b011322",
   "metadata": {},
   "outputs": [
    {
     "data": {
      "text/plain": [
       "3"
      ]
     },
     "execution_count": 4,
     "metadata": {},
     "output_type": "execute_result"
    }
   ],
   "source": [
    "np.random.randint(7)\n"
   ]
  },
  {
   "cell_type": "code",
   "execution_count": 5,
   "id": "03ac609f",
   "metadata": {},
   "outputs": [
    {
     "data": {
      "text/plain": [
       "array([4, 7, 9, 8, 1])"
      ]
     },
     "execution_count": 5,
     "metadata": {},
     "output_type": "execute_result"
    }
   ],
   "source": [
    "np.random.randint(1,12,5)"
   ]
  },
  {
   "cell_type": "markdown",
   "id": "9bf077eb",
   "metadata": {},
   "source": [
    "It returns an array of specified shape and fills it with random integers from low (inclusive) to \n",
    "high (exclusive), i.e. in the interval [low, high)."
   ]
  },
  {
   "cell_type": "code",
   "execution_count": 6,
   "id": "a7ae35d3",
   "metadata": {},
   "outputs": [
    {
     "data": {
      "text/plain": [
       "array([ 1,  3,  5,  7,  9, 11])"
      ]
     },
     "execution_count": 6,
     "metadata": {},
     "output_type": "execute_result"
    }
   ],
   "source": [
    "np.arange(1,12,2)"
   ]
  },
  {
   "cell_type": "code",
   "execution_count": 9,
   "id": "347963bc",
   "metadata": {},
   "outputs": [
    {
     "data": {
      "text/plain": [
       "array([ 1.,  3.,  5.,  7.,  9., 11.])"
      ]
     },
     "execution_count": 9,
     "metadata": {},
     "output_type": "execute_result"
    }
   ],
   "source": [
    "np.arange(1,12,2,'float')"
   ]
  },
  {
   "cell_type": "markdown",
   "id": "33343a58",
   "metadata": {},
   "source": [
    "The np.arange() creates a NumPy array.\n",
    "\n",
    "The numbers generated have the same difference.\n",
    "\n",
    "Numpy.arange (start, stop,step,dtype)\n",
    "\n"
   ]
  },
  {
   "cell_type": "code",
   "execution_count": 10,
   "id": "54356bef",
   "metadata": {},
   "outputs": [
    {
     "data": {
      "text/plain": [
       "(array([ 0.        ,  3.57142857,  7.14285714, 10.71428571, 14.28571429,\n",
       "        17.85714286, 21.42857143, 25.        , 28.57142857, 32.14285714,\n",
       "        35.71428571, 39.28571429, 42.85714286, 46.42857143, 50.        ]),\n",
       " 3.5714285714285716)"
      ]
     },
     "execution_count": 10,
     "metadata": {},
     "output_type": "execute_result"
    }
   ],
   "source": [
    "np.linspace(start=0,stop=50,num=15,retstep=True)"
   ]
  },
  {
   "cell_type": "markdown",
   "id": "c4f078da",
   "metadata": {},
   "source": [
    "The function generates a specified number of  equispaced values in a desired range.\n",
    "\n",
    "Numpy.linspace (  start,    stop ,   num,    dtype  )\n"
   ]
  },
  {
   "cell_type": "code",
   "execution_count": 12,
   "id": "b10ad55e",
   "metadata": {},
   "outputs": [
    {
     "data": {
      "text/plain": [
       "array([0., 0., 0., 0., 0.])"
      ]
     },
     "execution_count": 12,
     "metadata": {},
     "output_type": "execute_result"
    }
   ],
   "source": [
    "np.zeros(5)"
   ]
  },
  {
   "cell_type": "code",
   "execution_count": 13,
   "id": "c158ce8c",
   "metadata": {},
   "outputs": [
    {
     "data": {
      "text/plain": [
       "array([[0., 0., 0.],\n",
       "       [0., 0., 0.]])"
      ]
     },
     "execution_count": 13,
     "metadata": {},
     "output_type": "execute_result"
    }
   ],
   "source": [
    "np.zeros((2,3))"
   ]
  },
  {
   "cell_type": "markdown",
   "id": "c70c9e25",
   "metadata": {},
   "source": [
    "Create 1D numpy array of zeros using np.zeros()\n"
   ]
  },
  {
   "cell_type": "code",
   "execution_count": 14,
   "id": "d419a7c4",
   "metadata": {},
   "outputs": [
    {
     "data": {
      "text/plain": [
       "array([1., 1., 1., 1., 1.])"
      ]
     },
     "execution_count": 14,
     "metadata": {},
     "output_type": "execute_result"
    }
   ],
   "source": [
    "np.ones(5)"
   ]
  },
  {
   "cell_type": "code",
   "execution_count": 17,
   "id": "964e232a",
   "metadata": {},
   "outputs": [
    {
     "data": {
      "text/plain": [
       "array([[1., 1., 1.],\n",
       "       [1., 1., 1.]])"
      ]
     },
     "execution_count": 17,
     "metadata": {},
     "output_type": "execute_result"
    }
   ],
   "source": [
    "np.ones((2,3))"
   ]
  },
  {
   "cell_type": "markdown",
   "id": "393230ea",
   "metadata": {},
   "source": [
    "Create 1D numpy array of zeros using np.ones()"
   ]
  },
  {
   "cell_type": "code",
   "execution_count": 19,
   "id": "02fcfd77",
   "metadata": {},
   "outputs": [
    {
     "data": {
      "text/plain": [
       "array([[0.00000000e+000, 0.00000000e+000, 0.00000000e+000],\n",
       "       [0.00000000e+000, 0.00000000e+000, 6.20546451e-321],\n",
       "       [8.34451503e-308, 9.34531021e-307, 2.56761491e-312]])"
      ]
     },
     "execution_count": 19,
     "metadata": {},
     "output_type": "execute_result"
    }
   ],
   "source": [
    "np.empty((3,3),'float')"
   ]
  },
  {
   "cell_type": "markdown",
   "id": "8509afea",
   "metadata": {},
   "source": [
    "It returns the matrix with arbitrary (uninitialized) values of given shape and data types.\n"
   ]
  },
  {
   "cell_type": "code",
   "execution_count": 21,
   "id": "4c1c65fc",
   "metadata": {},
   "outputs": [
    {
     "data": {
      "text/plain": [
       "array([[5, 5],\n",
       "       [5, 5],\n",
       "       [5, 5],\n",
       "       [5, 5]])"
      ]
     },
     "execution_count": 21,
     "metadata": {},
     "output_type": "execute_result"
    }
   ],
   "source": [
    "np.full((4,2),fill_value=5)"
   ]
  },
  {
   "cell_type": "code",
   "execution_count": 22,
   "id": "ba987775",
   "metadata": {},
   "outputs": [
    {
     "data": {
      "text/plain": [
       "array([[1., 0., 0., 0., 0.],\n",
       "       [0., 1., 0., 0., 0.],\n",
       "       [0., 0., 1., 0., 0.],\n",
       "       [0., 0., 0., 1., 0.],\n",
       "       [0., 0., 0., 0., 1.]])"
      ]
     },
     "execution_count": 22,
     "metadata": {},
     "output_type": "execute_result"
    }
   ],
   "source": [
    "np.identity(5)"
   ]
  },
  {
   "cell_type": "code",
   "execution_count": 24,
   "id": "7687b010",
   "metadata": {},
   "outputs": [
    {
     "data": {
      "text/plain": [
       "array([[1., 0., 0.],\n",
       "       [0., 1., 0.],\n",
       "       [0., 0., 1.]])"
      ]
     },
     "execution_count": 24,
     "metadata": {},
     "output_type": "execute_result"
    }
   ],
   "source": [
    "np.eye(N=3,M=3,k=0)"
   ]
  },
  {
   "cell_type": "code",
   "execution_count": 25,
   "id": "a79225da",
   "metadata": {},
   "outputs": [
    {
     "data": {
      "text/plain": [
       "array([[0., 1., 0.],\n",
       "       [0., 0., 1.],\n",
       "       [0., 0., 0.]])"
      ]
     },
     "execution_count": 25,
     "metadata": {},
     "output_type": "execute_result"
    }
   ],
   "source": [
    "np.eye(N=3,M=3,k=1)"
   ]
  },
  {
   "cell_type": "code",
   "execution_count": 26,
   "id": "90560fcb",
   "metadata": {},
   "outputs": [
    {
     "data": {
      "text/plain": [
       "array([[0., 0., 0.],\n",
       "       [1., 0., 0.],\n",
       "       [0., 1., 0.]])"
      ]
     },
     "execution_count": 26,
     "metadata": {},
     "output_type": "execute_result"
    }
   ],
   "source": [
    "np.eye(N=3,M=3,k=-1)"
   ]
  },
  {
   "cell_type": "markdown",
   "id": "47798324",
   "metadata": {},
   "source": [
    "Returns the NxM matrix with value ‘1’ on the k-th diagonal and remaining entries as zero.\n",
    "\n",
    "K = 0 represents main diagonal\n",
    "\n",
    "K > 0 represents upper diagonal\n",
    "\n",
    "K < 0 represents lower diagonal\n"
   ]
  },
  {
   "cell_type": "markdown",
   "id": "add8eaa0",
   "metadata": {},
   "source": [
    "# Attributes"
   ]
  },
  {
   "cell_type": "code",
   "execution_count": 29,
   "id": "bf186460",
   "metadata": {},
   "outputs": [],
   "source": [
    "x=np.array([[20,30,40,50],[45,56,78,87]])"
   ]
  },
  {
   "cell_type": "code",
   "execution_count": 30,
   "id": "4c2761bb",
   "metadata": {},
   "outputs": [
    {
     "data": {
      "text/plain": [
       "(2, 4)"
      ]
     },
     "execution_count": 30,
     "metadata": {},
     "output_type": "execute_result"
    }
   ],
   "source": [
    "x.shape"
   ]
  },
  {
   "cell_type": "code",
   "execution_count": 31,
   "id": "937d1ee6",
   "metadata": {},
   "outputs": [
    {
     "data": {
      "text/plain": [
       "8"
      ]
     },
     "execution_count": 31,
     "metadata": {},
     "output_type": "execute_result"
    }
   ],
   "source": [
    "x.size"
   ]
  },
  {
   "cell_type": "code",
   "execution_count": 32,
   "id": "884e9129",
   "metadata": {},
   "outputs": [
    {
     "data": {
      "text/plain": [
       "2"
      ]
     },
     "execution_count": 32,
     "metadata": {},
     "output_type": "execute_result"
    }
   ],
   "source": [
    "x.ndim\n"
   ]
  },
  {
   "cell_type": "code",
   "execution_count": 34,
   "id": "b756db3a",
   "metadata": {},
   "outputs": [
    {
     "data": {
      "text/plain": [
       "dtype('int32')"
      ]
     },
     "execution_count": 34,
     "metadata": {},
     "output_type": "execute_result"
    }
   ],
   "source": [
    "x.dtype"
   ]
  },
  {
   "cell_type": "markdown",
   "id": "dceffccf",
   "metadata": {},
   "source": [
    "# Reshape & Resize"
   ]
  },
  {
   "cell_type": "code",
   "execution_count": 40,
   "id": "077ffdfa",
   "metadata": {},
   "outputs": [
    {
     "name": "stdout",
     "output_type": "stream",
     "text": [
      "[[1 2]\n",
      " [3 4]\n",
      " [5 6]]\n",
      "array1 shape is  (3, 2)\n",
      "[[1 2 3]\n",
      " [4 5 6]]\n",
      "reshaped array shape is :  (2, 3)\n"
     ]
    }
   ],
   "source": [
    "array1=np.array([[1,2],[3,4],[5,6]])\n",
    "reshaped_array=array1.reshape(2,3)\n",
    "print(array1)\n",
    "\n",
    "print(\"array1 shape is \" ,array1.shape)\n",
    "\n",
    "print(reshaped_array)\n",
    "print(\"reshaped array shape is : \",reshaped_array.shape)"
   ]
  },
  {
   "cell_type": "code",
   "execution_count": 42,
   "id": "58e78f9d",
   "metadata": {},
   "outputs": [],
   "source": [
    "#valueerror (cannot reshape array of size 6 into shape (2,4))"
   ]
  },
  {
   "cell_type": "code",
   "execution_count": 41,
   "id": "21660a2b",
   "metadata": {},
   "outputs": [
    {
     "ename": "ValueError",
     "evalue": "cannot reshape array of size 6 into shape (2,4)",
     "output_type": "error",
     "traceback": [
      "\u001b[1;31m---------------------------------------------------------------------------\u001b[0m",
      "\u001b[1;31mValueError\u001b[0m                                Traceback (most recent call last)",
      "\u001b[1;32m<ipython-input-41-62b82296a489>\u001b[0m in \u001b[0;36m<module>\u001b[1;34m\u001b[0m\n\u001b[0;32m      1\u001b[0m \u001b[0marray1\u001b[0m\u001b[1;33m=\u001b[0m\u001b[0mnp\u001b[0m\u001b[1;33m.\u001b[0m\u001b[0marray\u001b[0m\u001b[1;33m(\u001b[0m\u001b[1;33m[\u001b[0m\u001b[1;33m[\u001b[0m\u001b[1;36m1\u001b[0m\u001b[1;33m,\u001b[0m\u001b[1;36m2\u001b[0m\u001b[1;33m]\u001b[0m\u001b[1;33m,\u001b[0m\u001b[1;33m[\u001b[0m\u001b[1;36m3\u001b[0m\u001b[1;33m,\u001b[0m\u001b[1;36m4\u001b[0m\u001b[1;33m]\u001b[0m\u001b[1;33m,\u001b[0m\u001b[1;33m[\u001b[0m\u001b[1;36m5\u001b[0m\u001b[1;33m,\u001b[0m\u001b[1;36m6\u001b[0m\u001b[1;33m]\u001b[0m\u001b[1;33m]\u001b[0m\u001b[1;33m)\u001b[0m\u001b[1;33m\u001b[0m\u001b[1;33m\u001b[0m\u001b[0m\n\u001b[1;32m----> 2\u001b[1;33m \u001b[0mreshaped_array\u001b[0m\u001b[1;33m=\u001b[0m\u001b[0marray1\u001b[0m\u001b[1;33m.\u001b[0m\u001b[0mreshape\u001b[0m\u001b[1;33m(\u001b[0m\u001b[1;36m2\u001b[0m\u001b[1;33m,\u001b[0m\u001b[1;36m4\u001b[0m\u001b[1;33m)\u001b[0m\u001b[1;33m\u001b[0m\u001b[1;33m\u001b[0m\u001b[0m\n\u001b[0m\u001b[0;32m      3\u001b[0m \u001b[0mprint\u001b[0m\u001b[1;33m(\u001b[0m\u001b[0marray1\u001b[0m\u001b[1;33m)\u001b[0m\u001b[1;33m\u001b[0m\u001b[1;33m\u001b[0m\u001b[0m\n\u001b[0;32m      4\u001b[0m \u001b[1;33m\u001b[0m\u001b[0m\n\u001b[0;32m      5\u001b[0m \u001b[0mprint\u001b[0m\u001b[1;33m(\u001b[0m\u001b[1;34m\"array1 shape is \"\u001b[0m \u001b[1;33m,\u001b[0m\u001b[0marray1\u001b[0m\u001b[1;33m.\u001b[0m\u001b[0mshape\u001b[0m\u001b[1;33m)\u001b[0m\u001b[1;33m\u001b[0m\u001b[1;33m\u001b[0m\u001b[0m\n",
      "\u001b[1;31mValueError\u001b[0m: cannot reshape array of size 6 into shape (2,4)"
     ]
    }
   ],
   "source": [
    "array1=np.array([[1,2],[3,4],[5,6]])\n",
    "reshaped_array=array1.reshape(2,4)\n",
    "print(array1)\n",
    "\n",
    "print(\"array1 shape is \" ,array1.shape)\n",
    "\n",
    "print(reshaped_array)\n",
    "print(\"reshaped array shape is : \",reshaped_array.shape)"
   ]
  },
  {
   "cell_type": "code",
   "execution_count": 49,
   "id": "d92a72f2",
   "metadata": {},
   "outputs": [
    {
     "name": "stdout",
     "output_type": "stream",
     "text": [
      "[[1 2 3]\n",
      " [4 5 6]\n",
      " [0 0 0]]\n"
     ]
    }
   ],
   "source": [
    "array1=np.array([[1,2],[3,4],[5,6]])\n",
    "\n",
    "array1.resize(3,3)\n",
    "print(array1)"
   ]
  },
  {
   "cell_type": "code",
   "execution_count": 50,
   "id": "10ca3a1d",
   "metadata": {},
   "outputs": [
    {
     "name": "stdout",
     "output_type": "stream",
     "text": [
      "[[1 2 3 4]\n",
      " [5 6 0 0]\n",
      " [0 0 0 0]]\n"
     ]
    }
   ],
   "source": [
    "g = np.array([1, 2, 3, 4, 5, 6])\n",
    "  \n",
    "# Required values 12, existing values 6\n",
    "g.resize(3, 4)\n",
    "  \n",
    "print(g)"
   ]
  },
  {
   "cell_type": "markdown",
   "id": "d36ca06f",
   "metadata": {},
   "source": [
    "# indexing & slicing"
   ]
  },
  {
   "cell_type": "code",
   "execution_count": 51,
   "id": "c2aa842d",
   "metadata": {},
   "outputs": [
    {
     "name": "stdout",
     "output_type": "stream",
     "text": [
      "First element:  1\n",
      "last element:  6\n",
      "3rd element:  3\n"
     ]
    }
   ],
   "source": [
    "g = np.array([1, 2, 3, 4, 5, 6])\n",
    "print(\"First element: \",g[0])\n",
    "print(\"last element: \",g[-1])\n",
    "print(\"3rd element: \",g[2])"
   ]
  },
  {
   "cell_type": "code",
   "execution_count": 52,
   "id": "a2a9d398",
   "metadata": {},
   "outputs": [
    {
     "name": "stdout",
     "output_type": "stream",
     "text": [
      "2\n"
     ]
    }
   ],
   "source": [
    "x=np.array([[1,2,3],[4,5,6]])\n",
    "print(x[0][1])"
   ]
  },
  {
   "cell_type": "code",
   "execution_count": 53,
   "id": "d8e3ae2c",
   "metadata": {},
   "outputs": [
    {
     "name": "stdout",
     "output_type": "stream",
     "text": [
      "[1 2 3]\n"
     ]
    }
   ],
   "source": [
    "print(x[0,:])"
   ]
  },
  {
   "cell_type": "code",
   "execution_count": 54,
   "id": "b11cd1b6",
   "metadata": {},
   "outputs": [
    {
     "name": "stdout",
     "output_type": "stream",
     "text": [
      "[4 5 6]\n"
     ]
    }
   ],
   "source": [
    "print(x[1,:])"
   ]
  },
  {
   "cell_type": "code",
   "execution_count": 55,
   "id": "974912fd",
   "metadata": {},
   "outputs": [
    {
     "name": "stdout",
     "output_type": "stream",
     "text": [
      "[4 5]\n"
     ]
    }
   ],
   "source": [
    "print(x[1,:2])"
   ]
  },
  {
   "cell_type": "code",
   "execution_count": 57,
   "id": "3b98b01d",
   "metadata": {},
   "outputs": [
    {
     "data": {
      "text/plain": [
       "array([1, 2, 3, 4])"
      ]
     },
     "execution_count": 57,
     "metadata": {},
     "output_type": "execute_result"
    }
   ],
   "source": [
    "x1=np.array([1,2,3,4,5,6])\n",
    "x1[0:4]"
   ]
  },
  {
   "cell_type": "code",
   "execution_count": 58,
   "id": "dadb0998",
   "metadata": {},
   "outputs": [
    {
     "data": {
      "text/plain": [
       "array([6, 5, 4, 3, 2, 1])"
      ]
     },
     "execution_count": 58,
     "metadata": {},
     "output_type": "execute_result"
    }
   ],
   "source": [
    "x1[::-1]"
   ]
  },
  {
   "cell_type": "code",
   "execution_count": 59,
   "id": "f062a273",
   "metadata": {},
   "outputs": [
    {
     "data": {
      "text/plain": [
       "array([1, 3, 5])"
      ]
     },
     "execution_count": 59,
     "metadata": {},
     "output_type": "execute_result"
    }
   ],
   "source": [
    "x1[0:-1:2]"
   ]
  },
  {
   "cell_type": "code",
   "execution_count": 60,
   "id": "7771ce8b",
   "metadata": {},
   "outputs": [
    {
     "data": {
      "text/plain": [
       "array([[2, 3],\n",
       "       [5, 6],\n",
       "       [8, 9]])"
      ]
     },
     "execution_count": 60,
     "metadata": {},
     "output_type": "execute_result"
    }
   ],
   "source": [
    "n1=np.array([[1,2,3],[4,5,6],[7,8,9]])\n",
    "n1[:,1:]"
   ]
  },
  {
   "cell_type": "code",
   "execution_count": 61,
   "id": "cf92fd2a",
   "metadata": {},
   "outputs": [
    {
     "data": {
      "text/plain": [
       "array([7, 8, 9])"
      ]
     },
     "execution_count": 61,
     "metadata": {},
     "output_type": "execute_result"
    }
   ],
   "source": [
    "n1[2,:]"
   ]
  },
  {
   "cell_type": "code",
   "execution_count": 62,
   "id": "b0972d41",
   "metadata": {},
   "outputs": [
    {
     "data": {
      "text/plain": [
       "array([[4, 5],\n",
       "       [7, 8]])"
      ]
     },
     "execution_count": 62,
     "metadata": {},
     "output_type": "execute_result"
    }
   ],
   "source": [
    "n1[1:,:2]"
   ]
  },
  {
   "cell_type": "markdown",
   "id": "2d3040dc",
   "metadata": {},
   "source": [
    "# arithmatic operation"
   ]
  },
  {
   "cell_type": "code",
   "execution_count": 63,
   "id": "ecae847a",
   "metadata": {},
   "outputs": [
    {
     "name": "stdout",
     "output_type": "stream",
     "text": [
      "addition is :  [22 23 34 46]\n",
      "substraction is :  [-2 17 26 34]\n"
     ]
    }
   ],
   "source": [
    "x=np.array([10,20,30,40])\n",
    "y=np.array([12,3,4,6])\n",
    "print(\"addition is : \", x+y)\n",
    "print(\"substraction is : \",x-y)"
   ]
  },
  {
   "cell_type": "code",
   "execution_count": 64,
   "id": "8fbcf307",
   "metadata": {},
   "outputs": [
    {
     "name": "stdout",
     "output_type": "stream",
     "text": [
      "multiplication  [20 40 60 80]\n"
     ]
    }
   ],
   "source": [
    "print(\"multiplication \",x*2)"
   ]
  },
  {
   "cell_type": "markdown",
   "id": "042d4abf",
   "metadata": {},
   "source": [
    "# matrix & elementwise multiplication"
   ]
  },
  {
   "cell_type": "code",
   "execution_count": 65,
   "id": "8b3fe46d",
   "metadata": {},
   "outputs": [
    {
     "data": {
      "text/plain": [
       "array([[ 2,  6, 12],\n",
       "       [16, 25, 36],\n",
       "       [35, 48, 63]])"
      ]
     },
     "execution_count": 65,
     "metadata": {},
     "output_type": "execute_result"
    }
   ],
   "source": [
    "x=np.array([[1,2,3],[4,5,6],[7,8,9]])\n",
    "y=np.array([[2,3,4],[4,5,6],[5,6,7]])\n",
    "x*y"
   ]
  },
  {
   "cell_type": "code",
   "execution_count": 66,
   "id": "45417a5c",
   "metadata": {},
   "outputs": [
    {
     "data": {
      "text/plain": [
       "array([[ 25,  31,  37],\n",
       "       [ 58,  73,  88],\n",
       "       [ 91, 115, 139]])"
      ]
     },
     "execution_count": 66,
     "metadata": {},
     "output_type": "execute_result"
    }
   ],
   "source": [
    "x.dot(y)"
   ]
  },
  {
   "cell_type": "code",
   "execution_count": 69,
   "id": "bcf11b48",
   "metadata": {},
   "outputs": [
    {
     "data": {
      "text/plain": [
       "64.11111111111111"
      ]
     },
     "execution_count": 69,
     "metadata": {},
     "output_type": "execute_result"
    }
   ],
   "source": [
    "score=np.array([78,89,90,100,45,20,10,67,78])\n",
    "score.mean()"
   ]
  },
  {
   "cell_type": "code",
   "execution_count": 71,
   "id": "4b162581",
   "metadata": {},
   "outputs": [
    {
     "data": {
      "text/plain": [
       "10"
      ]
     },
     "execution_count": 71,
     "metadata": {},
     "output_type": "execute_result"
    }
   ],
   "source": [
    "score.min()"
   ]
  },
  {
   "cell_type": "code",
   "execution_count": 72,
   "id": "02ba2f14",
   "metadata": {},
   "outputs": [
    {
     "data": {
      "text/plain": [
       "100"
      ]
     },
     "execution_count": 72,
     "metadata": {},
     "output_type": "execute_result"
    }
   ],
   "source": [
    "score.max()"
   ]
  },
  {
   "cell_type": "code",
   "execution_count": 73,
   "id": "5f81d5d4",
   "metadata": {},
   "outputs": [
    {
     "data": {
      "text/plain": [
       "912.3209876543208"
      ]
     },
     "execution_count": 73,
     "metadata": {},
     "output_type": "execute_result"
    }
   ],
   "source": [
    "score.var()"
   ]
  },
  {
   "cell_type": "code",
   "execution_count": 74,
   "id": "f7a0ac57",
   "metadata": {},
   "outputs": [
    {
     "data": {
      "text/plain": [
       "30.204651755223413"
      ]
     },
     "execution_count": 74,
     "metadata": {},
     "output_type": "execute_result"
    }
   ],
   "source": [
    "score.std()"
   ]
  },
  {
   "cell_type": "code",
   "execution_count": 75,
   "id": "f94dbf75",
   "metadata": {},
   "outputs": [
    {
     "name": "stdout",
     "output_type": "stream",
     "text": [
      "[[1 2 3]\n",
      " [4 5 6]\n",
      " [7 8 9]]\n",
      "\n",
      "[[1 4 7]\n",
      " [2 5 8]\n",
      " [3 6 9]]\n"
     ]
    }
   ],
   "source": [
    "g = np.array([[1, 2, 3],\n",
    "                [4, 5, 6],\n",
    "                [7, 8, 9]])\n",
    " \n",
    "# before transpose\n",
    "print(g, end ='\\n\\n')\n",
    " \n",
    "# after transpose\n",
    "print(g.transpose())"
   ]
  },
  {
   "cell_type": "code",
   "execution_count": 77,
   "id": "2e08dae5",
   "metadata": {},
   "outputs": [
    {
     "name": "stdout",
     "output_type": "stream",
     "text": [
      "[[1 2 3]\n",
      " [4 5 6]]\n",
      "\n",
      "[[1 4]\n",
      " [2 5]\n",
      " [3 6]]\n"
     ]
    }
   ],
   "source": [
    "g = np.array([[1, 2, 3],\n",
    "                [4, 5, 6]]\n",
    "                )\n",
    "# before transpose\n",
    "print(g, end ='\\n\\n')\n",
    " \n",
    "# after transpose\n",
    "print(g.transpose())"
   ]
  },
  {
   "cell_type": "code",
   "execution_count": 78,
   "id": "178f12bd",
   "metadata": {},
   "outputs": [
    {
     "name": "stdout",
     "output_type": "stream",
     "text": [
      "[[10 29]\n",
      " [ 4 51]\n",
      " [71 16]]\n",
      "\n",
      "[[10  4 71]\n",
      " [29 51 16]]\n"
     ]
    }
   ],
   "source": [
    "x = np.array([[10, 29],\n",
    "                [4, 51],\n",
    "                [71, 16]])\n",
    " \n",
    "# before transpose\n",
    "print(x, end ='\\n\\n')\n",
    " \n",
    "# after transpose\n",
    "print(x.transpose(1, 0))"
   ]
  },
  {
   "cell_type": "code",
   "execution_count": 79,
   "id": "db1068bf",
   "metadata": {},
   "outputs": [
    {
     "name": "stdout",
     "output_type": "stream",
     "text": [
      "[[1 2 3]\n",
      " [4 5 6]\n",
      " [7 8 9]]\n",
      "\n",
      "[[1 4 7]\n",
      " [2 5 8]\n",
      " [3 6 9]]\n"
     ]
    }
   ],
   "source": [
    "n= np.array([[1, 2, 3],\n",
    "                [4, 5, 6],\n",
    "                [7, 8, 9]])\n",
    "   \n",
    "# before transpose\n",
    "print(n, end ='\\n\\n')\n",
    "   \n",
    "# after transpose\n",
    "print(n.T)"
   ]
  },
  {
   "cell_type": "code",
   "execution_count": 80,
   "id": "c7ed8ce5",
   "metadata": {},
   "outputs": [
    {
     "data": {
      "text/plain": [
       "array([ 1,  2,  3,  4,  2,  3,  4,  5, 10, 20, 30, 50])"
      ]
     },
     "execution_count": 80,
     "metadata": {},
     "output_type": "execute_result"
    }
   ],
   "source": [
    "x=np.array([1,2,3,4])\n",
    "y=np.array([2,3,4,5])\n",
    "z=np.array([10,20,30,50])\n",
    "np.concatenate([x,y,z])"
   ]
  },
  {
   "cell_type": "code",
   "execution_count": 82,
   "id": "17a7759e",
   "metadata": {},
   "outputs": [
    {
     "data": {
      "text/plain": [
       "array([[1, 2, 3],\n",
       "       [4, 5, 6],\n",
       "       [7, 8, 9],\n",
       "       [2, 3, 4],\n",
       "       [4, 5, 6],\n",
       "       [5, 6, 7]])"
      ]
     },
     "execution_count": 82,
     "metadata": {},
     "output_type": "execute_result"
    }
   ],
   "source": [
    "x=np.array([[1,2,3],[4,5,6],[7,8,9]])\n",
    "y=np.array([[2,3,4],[4,5,6],[5,6,7]])\n",
    "np.concatenate([x,y])"
   ]
  },
  {
   "cell_type": "code",
   "execution_count": 83,
   "id": "45720c60",
   "metadata": {},
   "outputs": [
    {
     "data": {
      "text/plain": [
       "array([[1, 2, 3, 2, 3, 4],\n",
       "       [4, 5, 6, 4, 5, 6],\n",
       "       [7, 8, 9, 5, 6, 7]])"
      ]
     },
     "execution_count": 83,
     "metadata": {},
     "output_type": "execute_result"
    }
   ],
   "source": [
    "np.concatenate([x,y],axis=1)"
   ]
  },
  {
   "cell_type": "markdown",
   "id": "75e8305b",
   "metadata": {},
   "source": [
    "# stacking"
   ]
  },
  {
   "cell_type": "code",
   "execution_count": 85,
   "id": "520f3bdf",
   "metadata": {},
   "outputs": [
    {
     "data": {
      "text/plain": [
       "array([[1, 2, 4, 5],\n",
       "       [5, 6, 6, 7]])"
      ]
     },
     "execution_count": 85,
     "metadata": {},
     "output_type": "execute_result"
    }
   ],
   "source": [
    "x=np.array([[1,2],[5,6]])\n",
    "y=np.array([[4,5],[6,7]])\n",
    "np.hstack([x,y])"
   ]
  },
  {
   "cell_type": "code",
   "execution_count": 86,
   "id": "6fd73eff",
   "metadata": {},
   "outputs": [
    {
     "data": {
      "text/plain": [
       "array([[1, 2],\n",
       "       [5, 6],\n",
       "       [4, 5],\n",
       "       [6, 7]])"
      ]
     },
     "execution_count": 86,
     "metadata": {},
     "output_type": "execute_result"
    }
   ],
   "source": [
    "np.vstack([x,y])"
   ]
  },
  {
   "cell_type": "code",
   "execution_count": 87,
   "id": "ac70d201",
   "metadata": {},
   "outputs": [
    {
     "data": {
      "text/plain": [
       "array([[[1, 4],\n",
       "        [2, 5]],\n",
       "\n",
       "       [[5, 6],\n",
       "        [6, 7]]])"
      ]
     },
     "execution_count": 87,
     "metadata": {},
     "output_type": "execute_result"
    }
   ],
   "source": [
    "np.dstack([x,y])"
   ]
  },
  {
   "cell_type": "code",
   "execution_count": 88,
   "id": "837f4d8e",
   "metadata": {},
   "outputs": [
    {
     "name": "stdout",
     "output_type": "stream",
     "text": [
      "3\n"
     ]
    }
   ],
   "source": [
    "print(np.ndim(np.dstack([x,y])))"
   ]
  },
  {
   "cell_type": "code",
   "execution_count": 90,
   "id": "6a1fa6f3",
   "metadata": {},
   "outputs": [
    {
     "name": "stdout",
     "output_type": "stream",
     "text": [
      "stacked array [[1 4]\n",
      " [2 5]\n",
      " [3 6]]\n"
     ]
    }
   ],
   "source": [
    "arr1 =np.array(( 1, 2, 3 ))\n",
    "  \n",
    "arr2 = np.array(( 4, 5, 6 ))\n",
    "\n",
    "  \n",
    "# Stacking the two arrays \n",
    "arr3= np.column_stack((arr1,arr2))\n",
    "print (\"stacked array\" ,arr3)"
   ]
  },
  {
   "cell_type": "code",
   "execution_count": 91,
   "id": "0892d6b6",
   "metadata": {},
   "outputs": [
    {
     "name": "stdout",
     "output_type": "stream",
     "text": [
      " stacked array :\n",
      "  [[18 12  9  4  5  6]\n",
      " [81 82 13 14 85 46]]\n"
     ]
    }
   ],
   "source": [
    "arr1 = np.array([[ 18,12,9], [ 81, 82, 13]] )\n",
    "\n",
    "  \n",
    "arr2 = np.array([[ 4, 5, 6], [ 14, 85, 46]] )\n",
    " \n",
    "  \n",
    "\n",
    "arr3 = np.column_stack((arr1, arr2))\n",
    "print (\" stacked array :\\n \", arr3)"
   ]
  },
  {
   "cell_type": "markdown",
   "id": "0d5f2555",
   "metadata": {},
   "source": [
    "# spliting"
   ]
  },
  {
   "cell_type": "code",
   "execution_count": 98,
   "id": "ebabc7a4",
   "metadata": {},
   "outputs": [],
   "source": [
    "x=np.array([[2,3,4,6],[6,8,9,45]])"
   ]
  },
  {
   "cell_type": "markdown",
   "id": "9db25d20",
   "metadata": {},
   "source": [
    "The hsplit() It is used to split an array horizontally (column-wise)\n"
   ]
  },
  {
   "cell_type": "code",
   "execution_count": 99,
   "id": "fa0f0c66",
   "metadata": {},
   "outputs": [
    {
     "data": {
      "text/plain": [
       "[array([[2, 3],\n",
       "        [6, 8]]),\n",
       " array([[ 4,  6],\n",
       "        [ 9, 45]])]"
      ]
     },
     "execution_count": 99,
     "metadata": {},
     "output_type": "execute_result"
    }
   ],
   "source": [
    "np.hsplit(x,2)"
   ]
  },
  {
   "cell_type": "markdown",
   "id": "310fbc6d",
   "metadata": {},
   "source": [
    "The vsplit() is used to split an array vertically (row-wise)\n"
   ]
  },
  {
   "cell_type": "code",
   "execution_count": 100,
   "id": "58f3cafb",
   "metadata": {},
   "outputs": [
    {
     "data": {
      "text/plain": [
       "[array([[2, 3, 4, 6]]), array([[ 6,  8,  9, 45]])]"
      ]
     },
     "execution_count": 100,
     "metadata": {},
     "output_type": "execute_result"
    }
   ],
   "source": [
    "np.vsplit(x,2)"
   ]
  },
  {
   "cell_type": "code",
   "execution_count": 103,
   "id": "82e1d70d",
   "metadata": {},
   "outputs": [
    {
     "data": {
      "text/plain": [
       "array([[[ 0,  1,  2],\n",
       "        [ 3,  4,  5],\n",
       "        [ 6,  7,  8],\n",
       "        [ 9, 10, 11],\n",
       "        [12, 13, 14]],\n",
       "\n",
       "       [[15, 16, 17],\n",
       "        [18, 19, 20],\n",
       "        [21, 22, 23],\n",
       "        [24, 25, 26],\n",
       "        [27, 28, 29]]])"
      ]
     },
     "execution_count": 103,
     "metadata": {},
     "output_type": "execute_result"
    }
   ],
   "source": [
    "x=np.arange(30).reshape(2,5,3)\n",
    "x"
   ]
  },
  {
   "cell_type": "code",
   "execution_count": 106,
   "id": "fb249ff5",
   "metadata": {},
   "outputs": [
    {
     "data": {
      "text/plain": [
       "[array([[[ 0],\n",
       "         [ 3],\n",
       "         [ 6],\n",
       "         [ 9],\n",
       "         [12]],\n",
       " \n",
       "        [[15],\n",
       "         [18],\n",
       "         [21],\n",
       "         [24],\n",
       "         [27]]]),\n",
       " array([[[ 1],\n",
       "         [ 4],\n",
       "         [ 7],\n",
       "         [10],\n",
       "         [13]],\n",
       " \n",
       "        [[16],\n",
       "         [19],\n",
       "         [22],\n",
       "         [25],\n",
       "         [28]]]),\n",
       " array([[[ 2],\n",
       "         [ 5],\n",
       "         [ 8],\n",
       "         [11],\n",
       "         [14]],\n",
       " \n",
       "        [[17],\n",
       "         [20],\n",
       "         [23],\n",
       "         [26],\n",
       "         [29]]])]"
      ]
     },
     "execution_count": 106,
     "metadata": {},
     "output_type": "execute_result"
    }
   ],
   "source": [
    "np.dsplit(x,3)"
   ]
  },
  {
   "cell_type": "code",
   "execution_count": 117,
   "id": "1afda140",
   "metadata": {},
   "outputs": [
    {
     "data": {
      "text/plain": [
       "[array([1, 2, 3]), array([4, 5, 6])]"
      ]
     },
     "execution_count": 117,
     "metadata": {},
     "output_type": "execute_result"
    }
   ],
   "source": [
    "n=np.array([1,2,3,4,5,6])\n",
    "np.split(n,2)"
   ]
  },
  {
   "cell_type": "code",
   "execution_count": 118,
   "id": "4e39dec3",
   "metadata": {},
   "outputs": [
    {
     "ename": "ValueError",
     "evalue": "array split does not result in an equal division",
     "output_type": "error",
     "traceback": [
      "\u001b[1;31m---------------------------------------------------------------------------\u001b[0m",
      "\u001b[1;31mValueError\u001b[0m                                Traceback (most recent call last)",
      "\u001b[1;32m<ipython-input-118-0d1e7768053d>\u001b[0m in \u001b[0;36m<module>\u001b[1;34m\u001b[0m\n\u001b[1;32m----> 1\u001b[1;33m \u001b[0mnp\u001b[0m\u001b[1;33m.\u001b[0m\u001b[0msplit\u001b[0m\u001b[1;33m(\u001b[0m\u001b[0mn\u001b[0m\u001b[1;33m,\u001b[0m\u001b[1;36m4\u001b[0m\u001b[1;33m)\u001b[0m\u001b[1;33m\u001b[0m\u001b[1;33m\u001b[0m\u001b[0m\n\u001b[0m",
      "\u001b[1;32mD:\\anaconda\\lib\\site-packages\\numpy\\core\\overrides.py\u001b[0m in \u001b[0;36msplit\u001b[1;34m(*args, **kwargs)\u001b[0m\n",
      "\u001b[1;32mD:\\anaconda\\lib\\site-packages\\numpy\\lib\\shape_base.py\u001b[0m in \u001b[0;36msplit\u001b[1;34m(ary, indices_or_sections, axis)\u001b[0m\n\u001b[0;32m    870\u001b[0m         \u001b[0mN\u001b[0m \u001b[1;33m=\u001b[0m \u001b[0mary\u001b[0m\u001b[1;33m.\u001b[0m\u001b[0mshape\u001b[0m\u001b[1;33m[\u001b[0m\u001b[0maxis\u001b[0m\u001b[1;33m]\u001b[0m\u001b[1;33m\u001b[0m\u001b[1;33m\u001b[0m\u001b[0m\n\u001b[0;32m    871\u001b[0m         \u001b[1;32mif\u001b[0m \u001b[0mN\u001b[0m \u001b[1;33m%\u001b[0m \u001b[0msections\u001b[0m\u001b[1;33m:\u001b[0m\u001b[1;33m\u001b[0m\u001b[1;33m\u001b[0m\u001b[0m\n\u001b[1;32m--> 872\u001b[1;33m             raise ValueError(\n\u001b[0m\u001b[0;32m    873\u001b[0m                 'array split does not result in an equal division') from None\n\u001b[0;32m    874\u001b[0m     \u001b[1;32mreturn\u001b[0m \u001b[0marray_split\u001b[0m\u001b[1;33m(\u001b[0m\u001b[0mary\u001b[0m\u001b[1;33m,\u001b[0m \u001b[0mindices_or_sections\u001b[0m\u001b[1;33m,\u001b[0m \u001b[0maxis\u001b[0m\u001b[1;33m)\u001b[0m\u001b[1;33m\u001b[0m\u001b[1;33m\u001b[0m\u001b[0m\n",
      "\u001b[1;31mValueError\u001b[0m: array split does not result in an equal division"
     ]
    }
   ],
   "source": [
    "np.split(n,4)"
   ]
  },
  {
   "cell_type": "markdown",
   "id": "a64624db",
   "metadata": {},
   "source": [
    "The split() does not allow an integer (N) as a number of splits, if N does not divide the array into equal length of sub-arrays \n"
   ]
  },
  {
   "cell_type": "code",
   "execution_count": 119,
   "id": "2f498c0a",
   "metadata": {},
   "outputs": [
    {
     "data": {
      "text/plain": [
       "[array([1]), array([2, 3]), array([4, 5, 6])]"
      ]
     },
     "execution_count": 119,
     "metadata": {},
     "output_type": "execute_result"
    }
   ],
   "source": [
    "np.split(n,[1,3\n",
    "           ])"
   ]
  },
  {
   "cell_type": "code",
   "execution_count": 120,
   "id": "da2c19d2",
   "metadata": {},
   "outputs": [
    {
     "data": {
      "text/plain": [
       "[array([0, 1, 2]),\n",
       " array([3, 4, 5]),\n",
       " array([6, 7]),\n",
       " array([8, 9]),\n",
       " array([10, 11])]"
      ]
     },
     "execution_count": 120,
     "metadata": {},
     "output_type": "execute_result"
    }
   ],
   "source": [
    "x=np.arange(12)\n",
    "np.array_split(x,5)"
   ]
  },
  {
   "cell_type": "code",
   "execution_count": null,
   "id": "e59ff5f9",
   "metadata": {},
   "outputs": [],
   "source": []
  },
  {
   "cell_type": "code",
   "execution_count": 107,
   "id": "550a2fb7",
   "metadata": {},
   "outputs": [
    {
     "data": {
      "text/plain": [
       "array([[[ 0,  1,  2],\n",
       "        [ 3,  4,  5],\n",
       "        [ 6,  7,  8],\n",
       "        [ 9, 10, 11],\n",
       "        [12, 13, 14]],\n",
       "\n",
       "       [[15, 16, 17],\n",
       "        [18, 19, 20],\n",
       "        [21, 22, 23],\n",
       "        [24, 25, 26],\n",
       "        [27, 28, 29]]])"
      ]
     },
     "execution_count": 107,
     "metadata": {},
     "output_type": "execute_result"
    }
   ],
   "source": [
    "x"
   ]
  },
  {
   "cell_type": "code",
   "execution_count": 108,
   "id": "ca9c35d7",
   "metadata": {},
   "outputs": [
    {
     "data": {
      "text/plain": [
       "array([ 0,  1,  2,  3,  4,  5,  6,  7,  8,  9, 10, 11, 12, 13, 14, 15, 16,\n",
       "       17, 18, 19, 20, 21, 22, 23, 24, 25, 26, 27, 28, 29])"
      ]
     },
     "execution_count": 108,
     "metadata": {},
     "output_type": "execute_result"
    }
   ],
   "source": [
    "np.ndarray.flatten(x)"
   ]
  },
  {
   "cell_type": "code",
   "execution_count": 110,
   "id": "d9aece6c",
   "metadata": {},
   "outputs": [
    {
     "name": "stdout",
     "output_type": "stream",
     "text": [
      "1\n",
      "2\n",
      "3\n",
      "4\n"
     ]
    }
   ],
   "source": [
    "x=np.array([1,2,3,4])\n",
    "for i in x:\n",
    "    print(i)"
   ]
  },
  {
   "cell_type": "code",
   "execution_count": 116,
   "id": "f0ad9ed4",
   "metadata": {},
   "outputs": [
    {
     "name": "stdout",
     "output_type": "stream",
     "text": [
      "1\n",
      "2\n",
      "3\n",
      "4\n",
      "5\n",
      "6\n",
      "7\n",
      "8\n"
     ]
    }
   ],
   "source": [
    "x=np.array([[1,2,3,4],[5,6,7,8]])\n",
    "for i in x:\n",
    "    for j in i:\n",
    "        print(j)\n",
    "    "
   ]
  },
  {
   "cell_type": "markdown",
   "id": "8d6ee2f1",
   "metadata": {},
   "source": [
    "# Broadcasting"
   ]
  },
  {
   "cell_type": "markdown",
   "id": "50bc8d37",
   "metadata": {},
   "source": [
    "The term broadcasting refers to how numpy treats arrays with different Dimension during arithmetic operations which lead to certain constraints, the smaller array \n",
    "is broadcast across the larger array so that they have compatible shapes. "
   ]
  },
  {
   "cell_type": "markdown",
   "id": "d53da410",
   "metadata": {},
   "source": [
    "Broadcasting Rules: \n",
    "\n",
    "Broadcasting two arrays together follow these rules: \n",
    "\n",
    "If the arrays don’t have the same rank then prepend the shape of the lower rank array with 1s until both shapes have the same length.\n",
    "\n",
    "The two arrays are compatible in a dimension if they have the same size in the dimension or if one of the arrays has size 1 in that dimension.\n",
    "The arrays can be broadcast together if they are compatible with all dimensions.\n",
    "\n",
    "After broadcasting, each array behaves as if it had shape equal to the element-wise maximum of shapes of the two input arrays.\n",
    "\n",
    "In any dimension where one array had size 1 and the other array had size greater than 1, the first array behaves as if it were copied along that dimension."
   ]
  },
  {
   "cell_type": "code",
   "execution_count": 3,
   "id": "edf7be8e",
   "metadata": {},
   "outputs": [
    {
     "name": "stdout",
     "output_type": "stream",
     "text": [
      "[[ 51  34  13]\n",
      " [100 200 300]]\n",
      "6\n",
      "[[ 57  40  19]\n",
      " [106 206 306]]\n"
     ]
    }
   ],
   "source": [
    "x = np.array([[51, 34, 13], [100, 200, 300]])\n",
    "print(x)\n",
    " \n",
    "y= 6\n",
    "print(y)\n",
    " \n",
    "z=x+y \n",
    "print(z)"
   ]
  },
  {
   "cell_type": "markdown",
   "id": "637b2622",
   "metadata": {},
   "source": [
    "If the dimensions of two arrays are dissimilar, element-to-element operations are not possible. However, operations on arrays of non-similar\n",
    "shapes is still possible in NumPy, because of the broadcasting capability."
   ]
  },
  {
   "cell_type": "code",
   "execution_count": 5,
   "id": "979655be",
   "metadata": {},
   "outputs": [
    {
     "name": "stdout",
     "output_type": "stream",
     "text": [
      "First array:\n",
      "[[ 0  0  0]\n",
      " [10 10 10]\n",
      " [20 20 20]\n",
      " [30 30 30]]\n",
      "Second array:\n",
      "[1 2 3]\n",
      "First Array + Second Array\n",
      "[[ 1  2  3]\n",
      " [11 12 13]\n",
      " [21 22 23]\n",
      " [31 32 33]]\n"
     ]
    }
   ],
   "source": [
    "a = np.array([[0,0,0],[10,10,10],[20,20,20],[30,30,30]]) \n",
    "b = np.array([1,2,3])  \n",
    "   \n",
    "print('First array:') \n",
    "print(a)\n",
    "  \n",
    "   \n",
    "print('Second array:' )\n",
    "print(b)  \n",
    "   \n",
    "print('First Array + Second Array') \n",
    "print(a + b)"
   ]
  },
  {
   "cell_type": "code",
   "execution_count": 8,
   "id": "b53edd6b",
   "metadata": {},
   "outputs": [],
   "source": [
    "#The numpy.where() function returns the indices of elements in an input array where the given condition is satisfied."
   ]
  },
  {
   "cell_type": "code",
   "execution_count": 6,
   "id": "7fabf1f8",
   "metadata": {},
   "outputs": [
    {
     "name": "stdout",
     "output_type": "stream",
     "text": [
      "[[1 2 3]\n",
      " [4 5 6]]\n",
      "Indices of elements <4\n",
      "(array([0, 0, 0], dtype=int64), array([0, 1, 2], dtype=int64))\n"
     ]
    }
   ],
   "source": [
    "a = np.array([[1, 2, 3], [4, 5, 6]])\n",
    "  \n",
    "print(a)\n",
    "  \n",
    "print ('Indices of elements <4')\n",
    "  \n",
    "b = np.where(a<4)\n",
    "print(b)"
   ]
  },
  {
   "cell_type": "code",
   "execution_count": 9,
   "id": "2559f05b",
   "metadata": {},
   "outputs": [],
   "source": [
    "#numpy.percentile()function used to compute the nth percentile of the given data (array elements) along the specified axis. "
   ]
  },
  {
   "cell_type": "code",
   "execution_count": 10,
   "id": "e81d43c5",
   "metadata": {},
   "outputs": [
    {
     "name": "stdout",
     "output_type": "stream",
     "text": [
      "arr :  [20, 29, 79, 61, 34, 67, 87, 90, 65, 543, 34, 89]\n",
      "50th percentile of arr :  66.0\n",
      "25th percentile of arr :  34.0\n",
      "75th percentile of arr :  87.5\n"
     ]
    }
   ],
   "source": [
    "arr1 = [20, 29, 79, 61, 34,67,87,90,65,543,34,89]\n",
    "print(\"arr : \", arr1)\n",
    "print(\"50th percentile of arr : \",\n",
    "       np.percentile(arr1, 50))\n",
    "print(\"25th percentile of arr : \",\n",
    "       np.percentile(arr1, 25))\n",
    "print(\"75th percentile of arr : \",\n",
    "       np.percentile(arr1, 75))"
   ]
  },
  {
   "cell_type": "code",
   "execution_count": 12,
   "id": "66947183",
   "metadata": {},
   "outputs": [],
   "source": [
    "#With the help of numpy.isin() method, we can see that one array having values are checked in a different numpy \n",
    "#array having different elements with different sizes."
   ]
  },
  {
   "cell_type": "code",
   "execution_count": 11,
   "id": "f94b1ffc",
   "metadata": {},
   "outputs": [
    {
     "name": "stdout",
     "output_type": "stream",
     "text": [
      "[ True False  True False  True False False False False]\n"
     ]
    }
   ],
   "source": [
    "x = np.array([1, 2, 3, 4, 5,6,7,8,9])\n",
    "list1 = [1, 3, 5]\n",
    "y= np.isin(x, list1)\n",
    "  \n",
    "print(y)"
   ]
  },
  {
   "cell_type": "code",
   "execution_count": null,
   "id": "26ad032a",
   "metadata": {},
   "outputs": [],
   "source": []
  }
 ],
 "metadata": {
  "kernelspec": {
   "display_name": "Python 3",
   "language": "python",
   "name": "python3"
  },
  "language_info": {
   "codemirror_mode": {
    "name": "ipython",
    "version": 3
   },
   "file_extension": ".py",
   "mimetype": "text/x-python",
   "name": "python",
   "nbconvert_exporter": "python",
   "pygments_lexer": "ipython3",
   "version": "3.8.8"
  }
 },
 "nbformat": 4,
 "nbformat_minor": 5
}
